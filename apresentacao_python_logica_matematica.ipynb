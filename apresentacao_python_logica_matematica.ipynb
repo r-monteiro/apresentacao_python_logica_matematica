{
  "nbformat": 4,
  "nbformat_minor": 0,
  "metadata": {
    "colab": {
      "provenance": []
    },
    "kernelspec": {
      "name": "python3",
      "display_name": "Python 3"
    },
    "language_info": {
      "name": "python"
    }
  },
  "cells": [
    {
      "cell_type": "markdown",
      "source": [
        "#TRABALHO LÓGICA MATEMÁTICA - 4 SEMESTRE CD FATEC OURINHOS\n",
        "#PAULO ELIAS TAVARES GENEROZO\n",
        "#THOMAS JEFFERSON BATISTA AMÉRICO\n",
        "#MATEUS NATAN ROES SALGUEIRO\n",
        "#RAFAEL AUGUSTO MORAES MONTEIRO"
      ],
      "metadata": {
        "id": "QUm7_IgTLG5F"
      }
    },
    {
      "cell_type": "code",
      "source": [
        "from google.colab import drive\n",
        "drive.mount('/content/drive')\n",
        "\n",
        "import pandas as pd\n",
        "\n",
        "file_path = '/content/drive/My Drive/vendas.xlsx'\n",
        "df_vendas = pd.read_excel(file_path)\n",
        "\n",
        "#visualizar as primeiras linhas do dataframe\n",
        "print(df_vendas.head())"
      ],
      "metadata": {
        "colab": {
          "base_uri": "https://localhost:8080/"
        },
        "id": "TCGE3j9UjRmF",
        "outputId": "5dcefc07-e518-4b9f-ada2-374237922cd1"
      },
      "execution_count": null,
      "outputs": [
        {
          "output_type": "stream",
          "name": "stdout",
          "text": [
            "Drive already mounted at /content/drive; to attempt to forcibly remount, call drive.mount(\"/content/drive\", force_remount=True).\n",
            "   ID_Cliente  Idade  Comprou_Últimos_3_Meses  Compra_Valor_Anterior\n",
            "0           1     61                     True                     88\n",
            "1           2     42                     True                    470\n",
            "2           3     30                    False                     30\n",
            "3           4     36                    False                    429\n",
            "4           5     22                     True                    231\n"
          ]
        }
      ]
    },
    {
      "cell_type": "markdown",
      "source": [
        "PREMISSAS:\n",
        "\n",
        "1) Se o cliente tem mais de 30 anos e comprou nos últimos 3 meses, então ele é ativo.\n",
        "2) Se o cliente tem mais de 30 anos e não comprou nos últimos 3 meses, então ele é inativo.\n",
        "3) Se o cliente tem menos de 30 anos e não comprou nos últimos 3 meses, então ele é inativo.\n",
        "4) Se o cliente tem menos de 30 anos e comprou nos últimos 3 meses, então ele é ativo."
      ],
      "metadata": {
        "id": "9v4Oj5UZtMdg"
      }
    },
    {
      "cell_type": "code",
      "source": [
        "#filtrando clientes com idade maior que 30 e que compraram nos últimos 3 meses\n",
        "clientes_ativos = df_vendas[(df_vendas['Idade'] > 30) & (df_vendas['Comprou_Últimos_3_Meses'] == True)]\n",
        "\n",
        "#exibindo clientes que atendem aos critérios\n",
        "print(\"Clientes com idade maior que 30 e que compraram nos últimos 3 meses:\")\n",
        "print(clientes_ativos)\n",
        "\n",
        "#filtrando vendas com valor superior a 100 e que o cliente comprou nos últimos 3 meses\n",
        "vendas_mais_100 = df_vendas[(df_vendas['Compra_Valor_Anterior'] > 100) & (df_vendas['Comprou_Últimos_3_Meses'] == True)]\n",
        "\n",
        "#exibindo as vendas que atendem aos critérios\n",
        "print(\"\\nVendas com valor superior a 100 e que o cliente comprou nos últimos 3 meses:\")\n",
        "print(vendas_mais_100)"
      ],
      "metadata": {
        "colab": {
          "base_uri": "https://localhost:8080/"
        },
        "id": "xu99puiEtJGw",
        "outputId": "044f896b-5ec2-4c61-8d92-87fe1df91be0"
      },
      "execution_count": null,
      "outputs": [
        {
          "output_type": "stream",
          "name": "stdout",
          "text": [
            "Clientes com idade maior que 30 e que compraram nos últimos 3 meses:\n",
            "    ID_Cliente  Idade  Comprou_Últimos_3_Meses  Compra_Valor_Anterior  \\\n",
            "0            1     61                     True                     88   \n",
            "1            2     42                     True                    470   \n",
            "6            7     44                     True                     52   \n",
            "9           10     44                     True                    184   \n",
            "10          11     34                     True                    252   \n",
            "15          16     68                     True                    218   \n",
            "19          20     68                     True                    195   \n",
            "20          21     55                     True                    198   \n",
            "21          22     48                     True                    487   \n",
            "22          23     49                     True                     87   \n",
            "24          25     42                     True                    218   \n",
            "32          33     34                     True                    141   \n",
            "34          35     60                     True                     92   \n",
            "36          37     48                     True                    325   \n",
            "38          39     61                     True                    245   \n",
            "41          42     58                     True                    493   \n",
            "43          44     35                     True                    284   \n",
            "44          45     47                     True                    384   \n",
            "47          48     58                     True                    461   \n",
            "48          49     46                     True                     49   \n",
            "49          50     42                     True                    376   \n",
            "52          53     36                     True                    381   \n",
            "57          58     62                     True                    238   \n",
            "58          59     48                     True                    456   \n",
            "62          63     35                     True                     83   \n",
            "68          69     51                     True                    452   \n",
            "72          73     64                     True                    108   \n",
            "74          75     51                     True                    213   \n",
            "75          76     58                     True                    113   \n",
            "76          77     50                     True                    253   \n",
            "85          86     38                     True                    154   \n",
            "86          87     32                     True                    250   \n",
            "87          88     59                     True                     27   \n",
            "90          91     39                     True                    406   \n",
            "91          92     37                     True                    367   \n",
            "95          96     63                     True                    122   \n",
            "\n",
            "   Status_Cliente  \n",
            "0           Ativo  \n",
            "1           Ativo  \n",
            "6           Ativo  \n",
            "9           Ativo  \n",
            "10          Ativo  \n",
            "15          Ativo  \n",
            "19          Ativo  \n",
            "20          Ativo  \n",
            "21          Ativo  \n",
            "22          Ativo  \n",
            "24          Ativo  \n",
            "32          Ativo  \n",
            "34          Ativo  \n",
            "36          Ativo  \n",
            "38          Ativo  \n",
            "41          Ativo  \n",
            "43          Ativo  \n",
            "44          Ativo  \n",
            "47          Ativo  \n",
            "48          Ativo  \n",
            "49          Ativo  \n",
            "52          Ativo  \n",
            "57          Ativo  \n",
            "58          Ativo  \n",
            "62          Ativo  \n",
            "68          Ativo  \n",
            "72          Ativo  \n",
            "74          Ativo  \n",
            "75          Ativo  \n",
            "76          Ativo  \n",
            "85          Ativo  \n",
            "86          Ativo  \n",
            "87          Ativo  \n",
            "90          Ativo  \n",
            "91          Ativo  \n",
            "95          Ativo  \n",
            "\n",
            "Vendas com valor superior a 100 e que o cliente comprou nos últimos 3 meses:\n",
            "    ID_Cliente  Idade  Comprou_Últimos_3_Meses  Compra_Valor_Anterior  \\\n",
            "1            2     42                     True                    470   \n",
            "4            5     22                     True                    231   \n",
            "5            6     24                     True                    420   \n",
            "9           10     44                     True                    184   \n",
            "10          11     34                     True                    252   \n",
            "13          14     21                     True                    203   \n",
            "15          16     68                     True                    218   \n",
            "19          20     68                     True                    195   \n",
            "20          21     55                     True                    198   \n",
            "21          22     48                     True                    487   \n",
            "24          25     42                     True                    218   \n",
            "32          33     34                     True                    141   \n",
            "35          36     28                     True                    361   \n",
            "36          37     48                     True                    325   \n",
            "38          39     61                     True                    245   \n",
            "41          42     58                     True                    493   \n",
            "43          44     35                     True                    284   \n",
            "44          45     47                     True                    384   \n",
            "47          48     58                     True                    461   \n",
            "49          50     42                     True                    376   \n",
            "52          53     36                     True                    381   \n",
            "55          56     24                     True                    422   \n",
            "57          58     62                     True                    238   \n",
            "58          59     48                     True                    456   \n",
            "64          65     22                     True                    260   \n",
            "68          69     51                     True                    452   \n",
            "72          73     64                     True                    108   \n",
            "74          75     51                     True                    213   \n",
            "75          76     58                     True                    113   \n",
            "76          77     50                     True                    253   \n",
            "78          79     27                     True                    444   \n",
            "80          81     24                     True                    311   \n",
            "85          86     38                     True                    154   \n",
            "86          87     32                     True                    250   \n",
            "88          89     25                     True                    481   \n",
            "90          91     39                     True                    406   \n",
            "91          92     37                     True                    367   \n",
            "93          94     24                     True                    118   \n",
            "95          96     63                     True                    122   \n",
            "98          99     24                     True                    259   \n",
            "\n",
            "   Status_Cliente  \n",
            "1           Ativo  \n",
            "4           Ativo  \n",
            "5           Ativo  \n",
            "9           Ativo  \n",
            "10          Ativo  \n",
            "13          Ativo  \n",
            "15          Ativo  \n",
            "19          Ativo  \n",
            "20          Ativo  \n",
            "21          Ativo  \n",
            "24          Ativo  \n",
            "32          Ativo  \n",
            "35          Ativo  \n",
            "36          Ativo  \n",
            "38          Ativo  \n",
            "41          Ativo  \n",
            "43          Ativo  \n",
            "44          Ativo  \n",
            "47          Ativo  \n",
            "49          Ativo  \n",
            "52          Ativo  \n",
            "55          Ativo  \n",
            "57          Ativo  \n",
            "58          Ativo  \n",
            "64          Ativo  \n",
            "68          Ativo  \n",
            "72          Ativo  \n",
            "74          Ativo  \n",
            "75          Ativo  \n",
            "76          Ativo  \n",
            "78          Ativo  \n",
            "80          Ativo  \n",
            "85          Ativo  \n",
            "86          Ativo  \n",
            "88          Ativo  \n",
            "90          Ativo  \n",
            "91          Ativo  \n",
            "93          Ativo  \n",
            "95          Ativo  \n",
            "98          Ativo  \n"
          ]
        }
      ]
    },
    {
      "cell_type": "code",
      "source": [
        "# Função para aplicar a regra de Modus Ponens\n",
        "def modus_ponens(A, A_implica_B):\n",
        "    if A:\n",
        "        return A_implica_B  # Se A é verdadeiro, então B é verdadeiro\n",
        "    return False\n",
        "\n",
        "# Função para aplicar a regra de Modus Tollens\n",
        "def modus_tollens(A_implica_B, B):\n",
        "    if not B:\n",
        "        return not A_implica_B  # Se B é falso, então A também deve ser falso\n",
        "    return True\n",
        "\n",
        "# Definindo as proposições\n",
        "A = True  # Está chovendo\n",
        "A_implica_B = True  # Se estiver chovendo, a rua ficará molhada\n",
        "B = True  # A rua está molhada\n",
        "\n",
        "# Aplicando Modus Ponens\n",
        "print(\"Modus Ponens:\")\n",
        "print(f\"Se A implica B e A é verdadeiro, então B é: {modus_ponens(A, A_implica_B)}\")\n",
        "\n",
        "# Modificando a proposição B para testar Modus Tollens\n",
        "B = False  # A rua não está molhada\n",
        "\n",
        "# Aplicando Modus Tollens\n",
        "print(\"\\nModus Tollens:\")\n",
        "print(f\"Se A implica B e B é falso, então A deve ser falso: {modus_tollens(A_implica_B, B)}\")\n"
      ],
      "metadata": {
        "colab": {
          "base_uri": "https://localhost:8080/"
        },
        "id": "Vl5V756-2J5x",
        "outputId": "b811f38e-626b-4e73-b55b-8c2637e5e1a7"
      },
      "execution_count": null,
      "outputs": [
        {
          "output_type": "stream",
          "name": "stdout",
          "text": [
            "Modus Ponens:\n",
            "Se A implica B e A é verdadeiro, então B é: True\n",
            "\n",
            "Modus Tollens:\n",
            "Se A implica B e B é falso, então A deve ser falso: False\n"
          ]
        }
      ]
    }
  ]
}